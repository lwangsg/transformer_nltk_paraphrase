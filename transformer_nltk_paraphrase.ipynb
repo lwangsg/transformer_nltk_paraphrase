{
 "cells": [
  {
   "cell_type": "code",
   "execution_count": 1,
   "metadata": {},
   "outputs": [
    {
     "name": "stdout",
     "output_type": "stream",
     "text": [
      "Requirement already satisfied: transformers in c:\\users\\hongz\\appdata\\local\\programs\\python\\python310\\lib\\site-packages (4.24.0)\n",
      "Requirement already satisfied: pyyaml>=5.1 in c:\\users\\hongz\\appdata\\local\\programs\\python\\python310\\lib\\site-packages (from transformers) (6.0)\n",
      "Requirement already satisfied: tqdm>=4.27 in c:\\users\\hongz\\appdata\\local\\programs\\python\\python310\\lib\\site-packages (from transformers) (4.64.1)\n",
      "Requirement already satisfied: filelock in c:\\users\\hongz\\appdata\\local\\programs\\python\\python310\\lib\\site-packages (from transformers) (3.8.0)\n",
      "Requirement already satisfied: huggingface-hub<1.0,>=0.10.0 in c:\\users\\hongz\\appdata\\local\\programs\\python\\python310\\lib\\site-packages (from transformers) (0.10.1)\n",
      "Requirement already satisfied: regex!=2019.12.17 in c:\\users\\hongz\\appdata\\local\\programs\\python\\python310\\lib\\site-packages (from transformers) (2022.10.31)\n",
      "Requirement already satisfied: packaging>=20.0 in c:\\users\\hongz\\appdata\\local\\programs\\python\\python310\\lib\\site-packages (from transformers) (21.3)\n",
      "Requirement already satisfied: requests in c:\\users\\hongz\\appdata\\local\\programs\\python\\python310\\lib\\site-packages (from transformers) (2.28.1)\n",
      "Requirement already satisfied: tokenizers!=0.11.3,<0.14,>=0.11.1 in c:\\users\\hongz\\appdata\\local\\programs\\python\\python310\\lib\\site-packages (from transformers) (0.13.2)\n",
      "Requirement already satisfied: numpy>=1.17 in c:\\users\\hongz\\appdata\\local\\programs\\python\\python310\\lib\\site-packages (from transformers) (1.22.0)\n",
      "Requirement already satisfied: typing-extensions>=3.7.4.3 in c:\\users\\hongz\\appdata\\local\\programs\\python\\python310\\lib\\site-packages (from huggingface-hub<1.0,>=0.10.0->transformers) (4.4.0)\n",
      "Requirement already satisfied: pyparsing!=3.0.5,>=2.0.2 in c:\\users\\hongz\\appdata\\local\\programs\\python\\python310\\lib\\site-packages (from packaging>=20.0->transformers) (3.0.6)\n",
      "Requirement already satisfied: colorama in c:\\users\\hongz\\appdata\\local\\programs\\python\\python310\\lib\\site-packages (from tqdm>=4.27->transformers) (0.4.4)\n",
      "Requirement already satisfied: urllib3<1.27,>=1.21.1 in c:\\users\\hongz\\appdata\\local\\programs\\python\\python310\\lib\\site-packages (from requests->transformers) (1.26.12)\n",
      "Requirement already satisfied: charset-normalizer<3,>=2 in c:\\users\\hongz\\appdata\\local\\programs\\python\\python310\\lib\\site-packages (from requests->transformers) (2.1.1)"
     ]
    },
    {
     "name": "stderr",
     "output_type": "stream",
     "text": [
      "WARNING: You are using pip version 21.3.1; however, version 22.3.1 is available.\n",
      "You should consider upgrading via the 'C:\\Users\\hongz\\AppData\\Local\\Programs\\Python\\Python310\\python.exe -m pip install --upgrade pip' command.\n"
     ]
    },
    {
     "name": "stdout",
     "output_type": "stream",
     "text": [
      "\n",
      "Requirement already satisfied: idna<4,>=2.5 in c:\\users\\hongz\\appdata\\local\\programs\\python\\python310\\lib\\site-packages (from requests->transformers) (3.4)\n",
      "Requirement already satisfied: certifi>=2017.4.17 in c:\\users\\hongz\\appdata\\local\\programs\\python\\python310\\lib\\site-packages (from requests->transformers) (2022.9.24)\n",
      "Requirement already satisfied: torch in c:\\users\\hongz\\appdata\\local\\programs\\python\\python310\\lib\\site-packages (1.13.0)\n",
      "Requirement already satisfied: typing-extensions in c:\\users\\hongz\\appdata\\local\\programs\\python\\python310\\lib\\site-packages (from torch) (4.4.0)\n"
     ]
    },
    {
     "name": "stderr",
     "output_type": "stream",
     "text": [
      "WARNING: You are using pip version 21.3.1; however, version 22.3.1 is available.\n",
      "You should consider upgrading via the 'C:\\Users\\hongz\\AppData\\Local\\Programs\\Python\\Python310\\python.exe -m pip install --upgrade pip' command.\n"
     ]
    },
    {
     "name": "stdout",
     "output_type": "stream",
     "text": [
      "Requirement already satisfied: sentencepiece in c:\\users\\hongz\\appdata\\local\\programs\\python\\python310\\lib\\site-packages (0.1.97)\n"
     ]
    },
    {
     "name": "stderr",
     "output_type": "stream",
     "text": [
      "WARNING: You are using pip version 21.3.1; however, version 22.3.1 is available.\n",
      "You should consider upgrading via the 'C:\\Users\\hongz\\AppData\\Local\\Programs\\Python\\Python310\\python.exe -m pip install --upgrade pip' command.\n"
     ]
    },
    {
     "name": "stdout",
     "output_type": "stream",
     "text": [
      "Requirement already satisfied: newspaper3k in c:\\users\\hongz\\appdata\\local\\programs\\python\\python310\\lib\\site-packages (0.2.8)\n",
      "Requirement already satisfied: nltk>=3.2.1 in c:\\users\\hongz\\appdata\\local\\programs\\python\\python310\\lib\\site-packages (from newspaper3k) (3.7)\n",
      "Requirement already satisfied: PyYAML>=3.11 in c:\\users\\hongz\\appdata\\local\\programs\\python\\python310\\lib\\site-packages (from newspaper3k) (6.0)\n",
      "Requirement already satisfied: python-dateutil>=2.5.3 in c:\\users\\hongz\\appdata\\local\\programs\\python\\python310\\lib\\site-packages (from newspaper3k) (2.8.2)\n",
      "Requirement already satisfied: Pillow>=3.3.0 in c:\\users\\hongz\\appdata\\local\\programs\\python\\python310\\lib\\site-packages (from newspaper3k) (9.0.0)\n",
      "Requirement already satisfied: cssselect>=0.9.2 in c:\\users\\hongz\\appdata\\local\\programs\\python\\python310\\lib\\site-packages (from newspaper3k) (1.2.0)\n",
      "Requirement already satisfied: tldextract>=2.0.1 in c:\\users\\hongz\\appdata\\local\\programs\\python\\python310\\lib\\site-packages (from newspaper3k) (3.4.0)\n",
      "Requirement already satisfied: tinysegmenter==0.3 in c:\\users\\hongz\\appdata\\local\\programs\\python\\python310\\lib\\site-packages (from newspaper3k) (0.3)\n",
      "Requirement already satisfied: feedparser>=5.2.1 in c:\\users\\hongz\\appdata\\local\\programs\\python\\python310\\lib\\site-packages (from newspaper3k) (6.0.10)\n",
      "Requirement already satisfied: requests>=2.10.0 in c:\\users\\hongz\\appdata\\local\\programs\\python\\python310\\lib\\site-packages (from newspaper3k) (2.28.1)\n",
      "Requirement already satisfied: beautifulsoup4>=4.4.1 in c:\\users\\hongz\\appdata\\local\\programs\\python\\python310\\lib\\site-packages (from newspaper3k) (4.11.1)\n",
      "Requirement already satisfied: jieba3k>=0.35.1 in c:\\users\\hongz\\appdata\\local\\programs\\python\\python310\\lib\\site-packages (from newspaper3k) (0.35.1)\n",
      "Requirement already satisfied: lxml>=3.6.0 in c:\\users\\hongz\\appdata\\local\\programs\\python\\python310\\lib\\site-packages (from newspaper3k) (4.9.1)\n",
      "Requirement already satisfied: feedfinder2>=0.0.4 in c:\\users\\hongz\\appdata\\local\\programs\\python\\python310\\lib\\site-packages (from newspaper3k) (0.0.4)\n",
      "Requirement already satisfied: soupsieve>1.2 in c:\\users\\hongz\\appdata\\local\\programs\\python\\python310\\lib\\site-packages (from beautifulsoup4>=4.4.1->newspaper3k) (2.3.2.post1)\n",
      "Requirement already satisfied: six in c:\\users\\hongz\\appdata\\local\\programs\\python\\python310\\lib\\site-packages (from feedfinder2>=0.0.4->newspaper3k) (1.16.0)\n",
      "Requirement already satisfied: sgmllib3k in c:\\users\\hongz\\appdata\\local\\programs\\python\\python310\\lib\\site-packages (from feedparser>=5.2.1->newspaper3k) (1.0.0)\n",
      "Requirement already satisfied: tqdm in c:\\users\\hongz\\appdata\\local\\programs\\python\\python310\\lib\\site-packages (from nltk>=3.2.1->newspaper3k) (4.64.1)\n",
      "Requirement already satisfied: joblib in c:\\users\\hongz\\appdata\\local\\programs\\python\\python310\\lib\\site-packages (from nltk>=3.2.1->newspaper3k) (1.2.0)\n",
      "Requirement already satisfied: regex>=2021.8.3 in c:\\users\\hongz\\appdata\\local\\programs\\python\\python310\\lib\\site-packages (from nltk>=3.2.1->newspaper3k) (2022.10.31)\n",
      "Requirement already satisfied: click in c:\\users\\hongz\\appdata\\local\\programs\\python\\python310\\lib\\site-packages (from nltk>=3.2.1->newspaper3k) (8.1.3)\n",
      "Requirement already satisfied: charset-normalizer<3,>=2 in c:\\users\\hongz\\appdata\\local\\programs\\python\\python310\\lib\\site-packages (from requests>=2.10.0->newspaper3k) (2.1.1)\n",
      "Requirement already satisfied: urllib3<1.27,>=1.21.1 in c:\\users\\hongz\\appdata\\local\\programs\\python\\python310\\lib\\site-packages (from requests>=2.10.0->newspaper3k) (1.26.12)\n",
      "Requirement already satisfied: idna<4,>=2.5 in c:\\users\\hongz\\appdata\\local\\programs\\python\\python310\\lib\\site-packages (from requests>=2.10.0->newspaper3k) (3.4)\n",
      "Requirement already satisfied: certifi>=2017.4.17 in c:\\users\\hongz\\appdata\\local\\programs\\python\\python310\\lib\\site-packages (from requests>=2.10.0->newspaper3k) (2022.9.24)\n",
      "Requirement already satisfied: filelock>=3.0.8 in c:\\users\\hongz\\appdata\\local\\programs\\python\\python310\\lib\\site-packages (from tldextract>=2.0.1->newspaper3k) (3.8.0)\n",
      "Requirement already satisfied: requests-file>=1.4 in c:\\users\\hongz\\appdata\\local\\programs\\python\\python310\\lib\\site-packages (from tldextract>=2.0.1->newspaper3k) (1.5.1)\n",
      "Requirement already satisfied: colorama in c:\\users\\hongz\\appdata\\local\\programs\\python\\python310\\lib\\site-packages (from click->nltk>=3.2.1->newspaper3k) (0.4.4)\n"
     ]
    },
    {
     "name": "stderr",
     "output_type": "stream",
     "text": [
      "WARNING: You are using pip version 21.3.1; however, version 22.3.1 is available.\n",
      "You should consider upgrading via the 'C:\\Users\\hongz\\AppData\\Local\\Programs\\Python\\Python310\\python.exe -m pip install --upgrade pip' command.\n"
     ]
    },
    {
     "name": "stdout",
     "output_type": "stream",
     "text": [
      "Requirement already satisfied: protobuf==3.20 in c:\\users\\hongz\\appdata\\local\\programs\\python\\python310\\lib\\site-packages (3.20.0)\n"
     ]
    },
    {
     "name": "stderr",
     "output_type": "stream",
     "text": [
      "WARNING: You are using pip version 21.3.1; however, version 22.3.1 is available.\n",
      "You should consider upgrading via the 'C:\\Users\\hongz\\AppData\\Local\\Programs\\Python\\Python310\\python.exe -m pip install --upgrade pip' command.\n",
      "c:\\Users\\hongz\\AppData\\Local\\Programs\\Python\\Python310\\lib\\site-packages\\torch\\serialization.py:953: UserWarning: Failed to initialize NumPy: module compiled against API version 0x10 but this version of numpy is 0xf (Triggered internally at ..\\torch\\csrc\\utils\\tensor_numpy.cpp:77.)\n",
      "  obj = cast(Storage, torch.UntypedStorage(nbytes))\n",
      "[nltk_data] Downloading package punkt to\n",
      "[nltk_data]     C:\\Users\\hongz\\AppData\\Roaming\\nltk_data...\n",
      "[nltk_data]   Package punkt is already up-to-date!\n"
     ]
    },
    {
     "name": "stdout",
     "output_type": "stream",
     "text": [
      "What is “Working Experience” in practice? Let’s assume you are a candidate who recently graduated from the University with a Bsc/Msc degree in Mathematics, Computer Science, Engineering or other related fields and would like to start a career as a data scientist. The grades and the university degree you receive indicate your theoretical background and your ability to learn new things. In the real world however things are different, not necessarily more difficult than the University, and somehow the hiring managers would like to know more about you and especially how you work. A related “working experience” proves that you can do the needed job. That you are reliable, that you have enthusiasm for your science and that you are good at your job. In other words, a candidate with related working experience implies a higher risk for the company. But as we have previously mentioned you lack of working experience, let’s see how you can prove to them that you are trustworthy and good at your job so that they can trust you, i.e. Hire you! The era of ratings and reviews Definitely we live in an era of ratings and reviews. Don’t look at the reviews on Booking.com and Airbnb when planning where to stay, don’t look at TripAdvisor and Google Reviews when choosing a restaurant to eat, don’t look at the reviews for a movie before you watch it and so on and so forth. The same applies to companies. They want to have a review about you. Bear in mind that it is common to ask for reference before they hire someone and also they prefer to hire someone who is a referral of an existing employee. This happens because they want to learn more about their potential colleague before they undertake hiring. Let’s see how you can get'reviews'from the market and show your work in parallel. Stack Overflow Nobody can ignore a user with a high reputation in Stack Overflow. Clearly it indicates that you are really passionate about your science, you can be a good team player by providing solutions to your team, you are competent in your field and you contribute to your community. In addition, you give everybody the opportunity to look at your profile and work. Blogging Writing in a blog captures the attention of the hiring manager. Lets suppose you write in the medium and have many followers and claps. Having many followers implies that some people have found your article useful. It is like a positive review from the market and the community obtained. This is something that you can use as a work experience and also be a show-case of what you can do. Also, your articles reflect somehow your working style and your area of interest and expertise. Freelancer in a Web Platform There are many platforms such as Upwork, Fiverr, PeoplePerHour where you can take data science projects. This is a good start and can be used as related training experience. In these platforms you will also receive ratings and reviews from your clients. Definitely, a strong profile in such platforms proves your ability to deliver in high quality. It also indicates your ability to communicate with the clients, be reliable and have self-awareness. GitHub account I would recommend having a GitHub account which is like the portfolio of the Data Scientist. By sharing your profile you give them the possibility to see the way in which you code, the projects that you have done and so on. Kaggle Account Kaggle is the world’s largest data science community with powerful tools and resources to help you achieve your data science goals. If you participate in many competitions and have a relatively good score, that indicates that you are good in Data Science, that you have worked with real life problems and you have dealt with many different problems. Summing up If you lack working experience and you see that in most job openings ask for it, do not get disappointed. If you love your work and are good at it it is a matter of time before you will enter the industry. The most dangerous part of career is having a gap. For this reason, invest in the things we mentioned above during the time when you do not work and you are looking for a job. By doing this, you can improve your skills such as writing, coding etc., you get hands on experience and at the same time you can use them as related work experience. A candidate with 1000 points reputation in Stack Overflow, labeled as top freelancer in the web platforms with 500 followers in Medium and with an active Kaggle profile will thus stand out and will be asked for an interview where they also assess other things like cultural fit, interpersonal skills and so on.\n"
     ]
    }
   ],
   "source": [
    "# https://dzone.com/articles/how-to-paraphrase-text-in-python-using-nlp-librari\n",
    "\n",
    "!pip install transformers\n",
    "!pip install torch\n",
    "!pip install sentencepiece\n",
    "!pip install newspaper3k\n",
    "!pip install protobuf==3.20\n",
    "\n",
    "from newspaper import Article\n",
    "\n",
    "url = 'https://predictivehacks.com/how-to-get-a-data-science-job-without-experience'\n",
    "\n",
    "article = Article(url)\n",
    "article.download()\n",
    "article.parse()\n",
    "\n",
    "input_text = article.text\n",
    "\n",
    "from transformers import AutoTokenizer, AutoModelForSeq2SeqLM\n",
    "tokenizer = AutoTokenizer.from_pretrained('Vamsi/T5_Paraphrase_Paws')\n",
    "model = AutoModelForSeq2SeqLM.from_pretrained('Vamsi/T5_Paraphrase_Paws')\n",
    "\n",
    "import nltk\n",
    "nltk.download('punkt')\n",
    "from nltk.tokenize import sent_tokenize\n",
    "\n",
    "def my_paraphrase(sentence):\n",
    "    sentence = 'paraprhase: ' + sentence + ' </s>'\n",
    "    encoding = tokenizer.encode_plus(sentence, padding=True, return_tensors='pt')\n",
    "    input_ids, attention_masks = encoding['input_ids'], encoding['attention_mask']\n",
    "\n",
    "    outputs = model.generate(\n",
    "        input_ids=input_ids, attention_mask=attention_masks, \n",
    "        max_length=256,\n",
    "        do_sample=True,\n",
    "        top_k=120,\n",
    "        top_p=0.95,\n",
    "        early_stopping=True,\n",
    "        num_return_sequences=1)\n",
    "    output = tokenizer.decode(outputs[0], skip_special_tokens=True, clean_up_tokenization_spaces=True)\n",
    "\n",
    "    return(output)\n",
    "\n",
    "output = \" \".join([my_paraphrase(sent) for sent in sent_tokenize(input_text)])\n",
    "\n",
    "print(output)"
   ]
  },
  {
   "cell_type": "code",
   "execution_count": null,
   "metadata": {},
   "outputs": [],
   "source": [
    "from newspaper import Article\n",
    "\n",
    "url = 'https://predictivehacks.com/how-to-get-a-data-science-job-without-experience'\n",
    "\n",
    "article = Article(url)\n",
    "article.download()\n",
    "article.parse()\n",
    "\n",
    "input_text = article.text\n",
    "\n"
   ]
  },
  {
   "cell_type": "code",
   "execution_count": null,
   "metadata": {},
   "outputs": [],
   "source": [
    "from transformers import AutoTokenizer, AutoModelForSeq2SeqLM\n",
    "tokenizer = AutoTokenizer.from_pretrained('Vamsi/T5_Paraphrase_Paws')\n",
    "model = AutoModelForSeq2SeqLM.from_pretrained('Vamsi/T5_Paraphrase_Paws')\n"
   ]
  },
  {
   "cell_type": "code",
   "execution_count": null,
   "metadata": {},
   "outputs": [],
   "source": [
    "import nltk\n",
    "nltk.download('punkt')\n",
    "from nltk.tokenize import sent_tokenize\n",
    "\n",
    "def my_paraphrase(sentence):\n",
    "    sentence = 'paraprhase: ' + sentence + ' </s>'\n",
    "    encoding = tokenizer.encode_plus(sentence, padding=True, return_tensors='pt')\n",
    "    input_ids, attention_masks = encoding['input_ids'], encoding['attention_mask']\n",
    "\n",
    "    outputs = model.generate(\n",
    "        input_ids=input_ids, attention_mask=attention_masks, \n",
    "        max_length=256,\n",
    "        do_sample=True,\n",
    "        top_k=120,\n",
    "        top_p=0.95,\n",
    "        early_stopping=True,\n",
    "        num_return_sequences=1)\n",
    "    output = tokenizer.decode(outputs[0], skip_special_tokens=True, clean_up_tokenization_spaces=True)\n",
    "\n",
    "    return(output)\n",
    "\n",
    "output = \" \".join([my_paraphrase(sent) for sent in sent_tokenize(input_text)])\n",
    "\n",
    "print(output)"
   ]
  },
  {
   "cell_type": "code",
   "execution_count": null,
   "metadata": {},
   "outputs": [],
   "source": []
  }
 ],
 "metadata": {
  "kernelspec": {
   "display_name": "Python 3.10.1 64-bit",
   "language": "python",
   "name": "python3"
  },
  "language_info": {
   "codemirror_mode": {
    "name": "ipython",
    "version": 3
   },
   "file_extension": ".py",
   "mimetype": "text/x-python",
   "name": "python",
   "nbconvert_exporter": "python",
   "pygments_lexer": "ipython3",
   "version": "3.10.1"
  },
  "orig_nbformat": 4,
  "vscode": {
   "interpreter": {
    "hash": "4f4067338d428447374b1033edbd93c2cc6997f3248e61404f10a94c45aa9f2f"
   }
  }
 },
 "nbformat": 4,
 "nbformat_minor": 2
}
