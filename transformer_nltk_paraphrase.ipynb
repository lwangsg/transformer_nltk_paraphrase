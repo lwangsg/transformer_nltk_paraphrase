{
 "cells": [
  {
   "cell_type": "code",
   "execution_count": null,
   "metadata": {},
   "outputs": [],
   "source": [
    "# https://dzone.com/articles/how-to-paraphrase-text-in-python-using-nlp-librari\n",
    "\n",
    "!pip install transformers\n",
    "!pip install torch\n",
    "!pip install sentencepiece\n",
    "!pip install newspaper3k\n",
    "!pip install protobuf==3.20\n",
    "\n",
    "from newspaper import Article\n",
    "\n",
    "url = 'https://predictivehacks.com/how-to-get-a-data-science-job-without-experience'\n",
    "\n",
    "article = Article(url)\n",
    "article.download()\n",
    "article.parse()\n",
    "\n",
    "input_text = article.text\n",
    "\n",
    "from transformers import AutoTokenizer, AutoModelForSeq2SeqLM\n",
    "tokenizer = AutoTokenizer.from_pretrained('Vamsi/T5_Paraphrase_Paws')\n",
    "model = AutoModelForSeq2SeqLM.from_pretrained('Vamsi/T5_Paraphrase_Paws')\n",
    "\n",
    "import nltk\n",
    "nltk.download('punkt')\n",
    "from nltk.tokenize import sent_tokenize\n",
    "\n",
    "def my_paraphrase(sentence):\n",
    "    sentence = 'paraprhase: ' + sentence + ' </s>'\n",
    "    encoding = tokenizer.encode_plus(sentence, padding=True, return_tensors='pt')\n",
    "    input_ids, attention_masks = encoding['input_ids'], encoding['attention_mask']\n",
    "\n",
    "    outputs = model.generate(\n",
    "        input_ids=input_ids, attention_mask=attention_masks, \n",
    "        max_length=256,\n",
    "        do_sample=True,\n",
    "        top_k=120,\n",
    "        top_p=0.95,\n",
    "        early_stopping=True,\n",
    "        num_return_sequences=1)\n",
    "    output = tokenizer.decode(outputs[0], skip_special_tokens=True, clean_up_tokenization_spaces=True)\n",
    "\n",
    "    return(output)\n",
    "\n",
    "output = \" \".join([my_paraphrase(sent) for sent in sent_tokenize(input_text)])\n",
    "\n",
    "print(output)"
   ]
  },
  {
   "cell_type": "markdown",
   "metadata": {},
   "source": [
    "What is “Working Experience” in practice? Let’s assume you are a candidate who recently graduated from the University with a Bsc/Msc degree in Mathematics, \n",
    "Computer Science, Engineering or other related fields and would like to start a career as a data scientist. \n",
    "The grades and the university degree you receive indicate your theoretical background and your ability to learn new things. \n",
    "In the real world however things are different, not necessarily more difficult than the University, \n",
    "and somehow the hiring managers would like to know more about you and especially how you work. \n",
    "\n",
    "A related “working experience” proves that you can do the needed job. That you are reliable, that you have enthusiasm for your science and that you are good at your job. \n",
    "In other words, a candidate with related working experience implies a higher risk for the company. \n",
    "But as we have previously mentioned you lack of working experience, let’s see how you can prove to them that you are trustworthy and good at your job so that they can trust you, \n",
    "i.e. Hire you! The era of ratings and reviews Definitely we live in an era of ratings and reviews. \n",
    "Don’t look at the reviews on Booking.com and Airbnb when planning where to stay, don’t look at TripAdvisor and Google Reviews when choosing a restaurant to eat, \n",
    "don’t look at the reviews for a movie before you watch it and so on and so forth. The same applies to companies. They want to have a review about you. \n",
    "Bear in mind that it is common to ask for reference before they hire someone and also they prefer to hire someone who is a referral of an existing employee. \n",
    "This happens because they want to learn more about their potential colleague before they undertake hiring. \n",
    "Let’s see how you can get'reviews'from the market and show your work in parallel. Stack Overflow Nobody can ignore a user with a high reputation in Stack Overflow. \n",
    "Clearly it indicates that you are really passionate about your science, you can be a good team player by providing solutions to your team, \n",
    "you are competent in your field and you contribute to your community. In addition, you give everybody the opportunity to look at your profile and work. \n",
    "Blogging Writing in a blog captures the attention of the hiring manager. Lets suppose you write in the medium and have many followers and claps. \n",
    "Having many followers implies that some people have found your article useful. It is like a positive review from the market and the community obtained. \n",
    "This is something that you can use as a work experience and also be a show-case of what you can do. Also, your articles reflect somehow your working style and your area of interest and expertise. \n",
    "Freelancer in a Web Platform There are many platforms such as Upwork, Fiverr, PeoplePerHour where you can take data science projects. \n",
    "This is a good start and can be used as related training experience. In these platforms you will also receive ratings and reviews from your clients. \n",
    "Definitely, a strong profile in such platforms proves your ability to deliver in high quality. It also indicates your ability to communicate with the clients, \n",
    "be reliable and have self-awareness. GitHub account I would recommend having a GitHub account which is like the portfolio of the Data Scientist. \n",
    "By sharing your profile you give them the possibility to see the way in which you code, the projects that you have done and so on. \n",
    "Kaggle Account Kaggle is the world’s largest data science community with powerful tools and resources to help you achieve your data science goals. \n",
    "If you participate in many competitions and have a relatively good score, that indicates that you are good in Data Science, that you have worked with real life problems and \n",
    "you have dealt with many different problems. \n",
    "\n",
    "Summing up If you lack working experience and you see that in most job openings ask for it, do not get disappointed. \n",
    "If you love your work and are good at it it is a matter of time before you will enter the industry. \n",
    "The most dangerous part of career is having a gap. For this reason, invest in the things we mentioned above during the time when you do not work and you are looking for a job. \n",
    "By doing this, you can improve your skills such as writing, coding etc., you get hands on experience and at the same time you can use them as related work experience. \n",
    "A candidate with 1000 points reputation in Stack Overflow, labeled as top freelancer in the web platforms with 500 followers in Medium and with an active Kaggle profile will thus stand out and \n",
    "will be asked for an interview where they also assess other things like cultural fit, interpersonal skills and so on."
   ]
  },
  {
   "cell_type": "code",
   "execution_count": null,
   "metadata": {},
   "outputs": [],
   "source": []
  }
 ],
 "metadata": {
  "kernelspec": {
   "display_name": "Python 3.10.1 64-bit",
   "language": "python",
   "name": "python3"
  },
  "language_info": {
   "codemirror_mode": {
    "name": "ipython",
    "version": 3
   },
   "file_extension": ".py",
   "mimetype": "text/x-python",
   "name": "python",
   "nbconvert_exporter": "python",
   "pygments_lexer": "ipython3",
   "version": "3.10.1"
  },
  "orig_nbformat": 4,
  "vscode": {
   "interpreter": {
    "hash": "4f4067338d428447374b1033edbd93c2cc6997f3248e61404f10a94c45aa9f2f"
   }
  }
 },
 "nbformat": 4,
 "nbformat_minor": 2
}
